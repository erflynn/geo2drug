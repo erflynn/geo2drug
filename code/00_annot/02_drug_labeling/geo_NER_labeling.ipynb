{
 "cells": [
  {
   "cell_type": "code",
   "execution_count": null,
   "metadata": {},
   "outputs": [],
   "source": [
    "# Objectives:\n",
    "# - Try using scispacy, BioBERT, and saber for NER\n",
    "# - Compare this to the GEO annotations"
   ]
  },
  {
   "cell_type": "code",
   "execution_count": 1,
   "metadata": {},
   "outputs": [],
   "source": [
    "import scispacy\n",
    "import spacy\n",
    "import en_ner_bc5cdr_md\n",
    "from spacy import displacy\n",
    "from scispacy.abbreviation import AbbreviationDetector\n",
    "from scispacy.umls_linking import UmlsEntityLinker"
   ]
  },
  {
   "cell_type": "code",
   "execution_count": 2,
   "metadata": {},
   "outputs": [],
   "source": [
    "import pandas as pd"
   ]
  },
  {
   "cell_type": "code",
   "execution_count": 3,
   "metadata": {},
   "outputs": [],
   "source": [
    "gse_data = pd.read_csv(\"../../../data/01_sample_lists/gse_metadata_all.csv\")"
   ]
  },
  {
   "cell_type": "code",
   "execution_count": 4,
   "metadata": {},
   "outputs": [
    {
     "data": {
      "text/html": [
       "<div>\n",
       "<style scoped>\n",
       "    .dataframe tbody tr th:only-of-type {\n",
       "        vertical-align: middle;\n",
       "    }\n",
       "\n",
       "    .dataframe tbody tr th {\n",
       "        vertical-align: top;\n",
       "    }\n",
       "\n",
       "    .dataframe thead th {\n",
       "        text-align: right;\n",
       "    }\n",
       "</style>\n",
       "<table border=\"1\" class=\"dataframe\">\n",
       "  <thead>\n",
       "    <tr style=\"text-align: right;\">\n",
       "      <th></th>\n",
       "      <th>gse</th>\n",
       "      <th>gpl</th>\n",
       "      <th>organism</th>\n",
       "      <th>study_type</th>\n",
       "      <th>title</th>\n",
       "      <th>pubmed_id</th>\n",
       "      <th>submission_date</th>\n",
       "      <th>overall_design</th>\n",
       "      <th>summary</th>\n",
       "    </tr>\n",
       "  </thead>\n",
       "  <tbody>\n",
       "    <tr>\n",
       "      <th>0</th>\n",
       "      <td>GSE3</td>\n",
       "      <td>GPL9,GPL10</td>\n",
       "      <td>human</td>\n",
       "      <td>oligo</td>\n",
       "      <td>Renal Cell Carcinoma Differential Expression</td>\n",
       "      <td>11691851.0</td>\n",
       "      <td>2001-07-19</td>\n",
       "      <td>NaN</td>\n",
       "      <td>We investigated the changes in gene expression...</td>\n",
       "    </tr>\n",
       "    <tr>\n",
       "      <th>1</th>\n",
       "      <td>GSE11</td>\n",
       "      <td>GPL24</td>\n",
       "      <td>mouse</td>\n",
       "      <td>oligo</td>\n",
       "      <td>NOD model of  type 1 diabetes</td>\n",
       "      <td>11827943.0</td>\n",
       "      <td>2001-11-19</td>\n",
       "      <td>NaN</td>\n",
       "      <td>We used high density oligonucleotide arrays to...</td>\n",
       "    </tr>\n",
       "    <tr>\n",
       "      <th>2</th>\n",
       "      <td>GSE12</td>\n",
       "      <td>GPL24</td>\n",
       "      <td>mouse</td>\n",
       "      <td>oligo</td>\n",
       "      <td>Group1</td>\n",
       "      <td>NaN</td>\n",
       "      <td>2001-11-19</td>\n",
       "      <td>NaN</td>\n",
       "      <td>Replicate group 1 for GSE11.  All samples were...</td>\n",
       "    </tr>\n",
       "    <tr>\n",
       "      <th>3</th>\n",
       "      <td>GSE15</td>\n",
       "      <td>GPL24</td>\n",
       "      <td>mouse</td>\n",
       "      <td>oligo</td>\n",
       "      <td>Group2</td>\n",
       "      <td>NaN</td>\n",
       "      <td>2002-01-03</td>\n",
       "      <td>NaN</td>\n",
       "      <td>Replicate group 2 for GSE11. All samples were ...</td>\n",
       "    </tr>\n",
       "    <tr>\n",
       "      <th>4</th>\n",
       "      <td>GSE51</td>\n",
       "      <td>GPL81</td>\n",
       "      <td>mouse</td>\n",
       "      <td>oligo</td>\n",
       "      <td>Hippocampus replicate samples</td>\n",
       "      <td>NaN</td>\n",
       "      <td>2002-05-28</td>\n",
       "      <td>NaN</td>\n",
       "      <td>Hippocampus gene expression experiments;\\tKeyw...</td>\n",
       "    </tr>\n",
       "  </tbody>\n",
       "</table>\n",
       "</div>"
      ],
      "text/plain": [
       "     gse         gpl organism study_type  \\\n",
       "0   GSE3  GPL9,GPL10    human      oligo   \n",
       "1  GSE11       GPL24    mouse      oligo   \n",
       "2  GSE12       GPL24    mouse      oligo   \n",
       "3  GSE15       GPL24    mouse      oligo   \n",
       "4  GSE51       GPL81    mouse      oligo   \n",
       "\n",
       "                                          title   pubmed_id submission_date  \\\n",
       "0  Renal Cell Carcinoma Differential Expression  11691851.0      2001-07-19   \n",
       "1                 NOD model of  type 1 diabetes  11827943.0      2001-11-19   \n",
       "2                                        Group1         NaN      2001-11-19   \n",
       "3                                        Group2         NaN      2002-01-03   \n",
       "4                 Hippocampus replicate samples         NaN      2002-05-28   \n",
       "\n",
       "  overall_design                                            summary  \n",
       "0            NaN  We investigated the changes in gene expression...  \n",
       "1            NaN  We used high density oligonucleotide arrays to...  \n",
       "2            NaN  Replicate group 1 for GSE11.  All samples were...  \n",
       "3            NaN  Replicate group 2 for GSE11. All samples were ...  \n",
       "4            NaN  Hippocampus gene expression experiments;\\tKeyw...  "
      ]
     },
     "execution_count": 4,
     "metadata": {},
     "output_type": "execute_result"
    }
   ],
   "source": [
    "gse_data.head()"
   ]
  },
  {
   "cell_type": "code",
   "execution_count": 13,
   "metadata": {},
   "outputs": [
    {
     "data": {
      "text/plain": [
       "(50, 9)"
      ]
     },
     "execution_count": 13,
     "metadata": {},
     "output_type": "execute_result"
    }
   ],
   "source": [
    "gse_data.head(50).shape"
   ]
  },
  {
   "cell_type": "code",
   "execution_count": 12,
   "metadata": {},
   "outputs": [],
   "source": [
    "nlp = spacy.load(\"en_core_sci_lg\")\n",
    "abbreviation_pipe = AbbreviationDetector(nlp)\n",
    "nlp.add_pipe(abbreviation_pipe)\n",
    "\n",
    "nlp1 = spacy.load(\"en_ner_bionlp13cg_md\")   # organism, cancer, cell\n",
    "abbreviation_pipe1 = AbbreviationDetector(nlp1)\n",
    "nlp1.add_pipe(abbreviation_pipe1)\n",
    "\n",
    "nlp2 = spacy.load(\"en_ner_jnlpba_md\")   # protein, dna, cell type\n",
    "abbreviation_pipe2 = AbbreviationDetector(nlp2)\n",
    "nlp2.add_pipe(abbreviation_pipe2)\n",
    "\n",
    "nlp3 = spacy.load(\"en_ner_bc5cdr_md\")   # chemical, disease\n",
    "abbreviation_pipe3 = AbbreviationDetector(nlp3)\n",
    "nlp3.add_pipe(abbreviation_pipe3)"
   ]
  },
  {
   "cell_type": "code",
   "execution_count": 19,
   "metadata": {},
   "outputs": [],
   "source": [
    "\n",
    "my_df = pd.DataFrame({'GSE' : [], \"tissue\":[], \\\n",
    "                      \"chemical\": [], \"disease\":[], \"cell\":[]})\n",
    "\n",
    "for index, row in gse_data.iterrows():\n",
    "    my_l = \"%s %s %s\" %(row['title'], row['overall_design'], row['summary'])\n",
    "    #summary_ents = nlp(my_l).ents\n",
    "    doc1 = nlp1(my_l)\n",
    "    doc2 = nlp2(my_l)\n",
    "    doc3 = nlp3(my_l)\n",
    "\n",
    "    tissue = set([ent.text for ent in doc1.ents if ent.label_ in [\"ORGAN\", \"TISSUE\", \"MULTI-TISSUE_STRUCTURE\", \\\n",
    "                                                                  \"ANATOMICAL_SYSTEM\", \"IMMATERIAL_ANATOMICAL_ENTITY\", \\\n",
    "                                                                  \"MULTI-TISSUE_STRUCTURE\", \"ORGANISM_SUBDIVISION\"]])\n",
    "    cells1 = set([ent.text for ent in doc2.ents if ent.label_ in [\"CELL_LINE\", \"CELL_TYPE\"]])\n",
    "    cells2 = set([ent.text for ent in doc1.ents if ent.label_ in [\"CELL\"]])\n",
    "    cells = cells1.union(cells2)\n",
    "\n",
    "    chemical = set([ent.text for ent in doc3.ents if ent.label_ in [\"CHEMICAL\"]])\n",
    "    disease = set([ent.text for ent in doc3.ents if ent.label_ in [\"DISEASE\"]])\n",
    "    #all_ents = summary_ents + doc1.ents + doc2.ents + doc3.ents\n",
    "    my_df = my_df.append(pd.DataFrame({\"GSE\": row['gse'], \"tissue\":[tissue], \"chemical\": [chemical], \"disease\":[disease], \"cell\":[cells]}))\n"
   ]
  },
  {
   "cell_type": "code",
   "execution_count": 20,
   "metadata": {},
   "outputs": [
    {
     "data": {
      "text/html": [
       "<div>\n",
       "<style scoped>\n",
       "    .dataframe tbody tr th:only-of-type {\n",
       "        vertical-align: middle;\n",
       "    }\n",
       "\n",
       "    .dataframe tbody tr th {\n",
       "        vertical-align: top;\n",
       "    }\n",
       "\n",
       "    .dataframe thead th {\n",
       "        text-align: right;\n",
       "    }\n",
       "</style>\n",
       "<table border=\"1\" class=\"dataframe\">\n",
       "  <thead>\n",
       "    <tr style=\"text-align: right;\">\n",
       "      <th></th>\n",
       "      <th>GSE</th>\n",
       "      <th>tissue</th>\n",
       "      <th>chemical</th>\n",
       "      <th>disease</th>\n",
       "      <th>cell</th>\n",
       "    </tr>\n",
       "  </thead>\n",
       "  <tbody>\n",
       "    <tr>\n",
       "      <th>0</th>\n",
       "      <td>GSE3</td>\n",
       "      <td>{non-cancerous renal epithelium samples, kidne...</td>\n",
       "      <td>{oxygen, nucleotide}</td>\n",
       "      <td>{renal clear cell carcinoma, renal cell carcin...</td>\n",
       "      <td>{kidney tumor cells, Cell, Renal Cell}</td>\n",
       "    </tr>\n",
       "    <tr>\n",
       "      <th>0</th>\n",
       "      <td>GSE11</td>\n",
       "      <td>{spleens, spleen B10.H2g7_S1, thymus, spleen, ...</td>\n",
       "      <td>{}</td>\n",
       "      <td>{diabetes, T1D}</td>\n",
       "      <td>{T cells}</td>\n",
       "    </tr>\n",
       "    <tr>\n",
       "      <th>0</th>\n",
       "      <td>GSE12</td>\n",
       "      <td>{}</td>\n",
       "      <td>{}</td>\n",
       "      <td>{}</td>\n",
       "      <td>{}</td>\n",
       "    </tr>\n",
       "    <tr>\n",
       "      <th>0</th>\n",
       "      <td>GSE15</td>\n",
       "      <td>{}</td>\n",
       "      <td>{}</td>\n",
       "      <td>{}</td>\n",
       "      <td>{}</td>\n",
       "    </tr>\n",
       "    <tr>\n",
       "      <th>0</th>\n",
       "      <td>GSE51</td>\n",
       "      <td>{}</td>\n",
       "      <td>{}</td>\n",
       "      <td>{}</td>\n",
       "      <td>{}</td>\n",
       "    </tr>\n",
       "  </tbody>\n",
       "</table>\n",
       "</div>"
      ],
      "text/plain": [
       "     GSE                                             tissue  \\\n",
       "0   GSE3  {non-cancerous renal epithelium samples, kidne...   \n",
       "0  GSE11  {spleens, spleen B10.H2g7_S1, thymus, spleen, ...   \n",
       "0  GSE12                                                 {}   \n",
       "0  GSE15                                                 {}   \n",
       "0  GSE51                                                 {}   \n",
       "\n",
       "               chemical                                            disease  \\\n",
       "0  {oxygen, nucleotide}  {renal clear cell carcinoma, renal cell carcin...   \n",
       "0                    {}                                    {diabetes, T1D}   \n",
       "0                    {}                                                 {}   \n",
       "0                    {}                                                 {}   \n",
       "0                    {}                                                 {}   \n",
       "\n",
       "                                     cell  \n",
       "0  {kidney tumor cells, Cell, Renal Cell}  \n",
       "0                               {T cells}  \n",
       "0                                      {}  \n",
       "0                                      {}  \n",
       "0                                      {}  "
      ]
     },
     "execution_count": 20,
     "metadata": {},
     "output_type": "execute_result"
    }
   ],
   "source": [
    "my_df.head()"
   ]
  },
  {
   "cell_type": "code",
   "execution_count": 21,
   "metadata": {},
   "outputs": [],
   "source": [
    "my_df.to_csv(\"../../data/02_labeled_data/ner_annot.csv\")"
   ]
  },
  {
   "cell_type": "code",
   "execution_count": null,
   "metadata": {},
   "outputs": [],
   "source": []
  }
 ],
 "metadata": {
  "kernelspec": {
   "display_name": "Python 3",
   "language": "python",
   "name": "python3"
  },
  "language_info": {
   "codemirror_mode": {
    "name": "ipython",
    "version": 3
   },
   "file_extension": ".py",
   "mimetype": "text/x-python",
   "name": "python",
   "nbconvert_exporter": "python",
   "pygments_lexer": "ipython3",
   "version": "3.7.5"
  }
 },
 "nbformat": 4,
 "nbformat_minor": 2
}
